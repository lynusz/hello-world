{
 "cells": [
  {
   "cell_type": "code",
   "execution_count": 8,
   "metadata": {
    "collapsed": true
   },
   "outputs": [],
   "source": [
    "import gzip\n",
    "import glob # Lists files into a directory\n",
    "import tarfile\n",
    "import json\n",
    "import pandas\n",
    "import pylab\n",
    "import os\n",
    "from pandas import *\n",
    "from pylab import *\n",
    "from astropy.io import fits"
   ]
  },
  {
   "cell_type": "code",
   "execution_count": 9,
   "metadata": {
    "collapsed": true
   },
   "outputs": [],
   "source": [
    "def printHeader(directory):\n",
    "    headstr = r\"\"\"<!DOCTYPE html>\n",
    "\n",
    "    <html>\n",
    "\n",
    "    <head> \n",
    "    <title>TNO Search</title>\n",
    "    <link href =\"style.css\" type=\"text/css\" rel=\"stylesheet\">\n",
    "    </head>\n",
    "    <body>\n",
    "        <div class = \"main\">\n",
    "            <div class = \"header\">\n",
    "                <img src = \"des_logo.png\" alt = \"Example 1 pic\"\n",
    "                width =\"270\" height=\"80\" align=\"left\" border = \"0\"></img>\n",
    "                \n",
    "                <img src = \" \"\"\"+directory+r\"\"\"/physics_logo_L2.gif\" alt = \"Example 1 pic\"\n",
    "                width =\"280\" height=\"70\" align=\"right\" border = \"0\"></img>\n",
    "                <h1 align = center>||</h1>\n",
    "            </div>\n",
    "            <div class = \"title\">\n",
    "                <h1>TNO Catalogue</h1>\n",
    "            </div>\"\"\"\n",
    "    \n",
    "    return headstr"
   ]
  },
  {
   "cell_type": "code",
   "execution_count": 10,
   "metadata": {
    "collapsed": true
   },
   "outputs": [],
   "source": [
    "def printTableHead():\n",
    "    headstr = \"\"\"<table width = \"700\" border=\"1\" class = \"tno_table\" align=\"center\" cellspacing=\"5\" cellpadding = \"2\">\n",
    "\t\t<tr>\n",
    "\t\t<td align=\"center\" colspan=\"5\"><b>Catagorized TNOs</b>\n",
    "\t\t<p> Select a TNO from the table below to learn more about it</p>\n",
    "\t\t</td>\"\"\"\n",
    "    return headstr"
   ]
  },
  {
   "cell_type": "code",
   "execution_count": 11,
   "metadata": {
    "collapsed": false
   },
   "outputs": [],
   "source": [
    "def writeTable(directory):\n",
    "    os.chdir(directory)\n",
    "    candidates=glob.glob('*.csv')\n",
    "    tableStr=r'''<tr align=\"center\">'''\n",
    "    i=1\n",
    "    for c in candidates:\n",
    "        tableStr+=r'''<td><a href=\"'''+c[:-4]+r'''.html\">'''+ c[:-4] +r''' </a></td>'''\n",
    "        if 4==i%5: \n",
    "            tableStr+=r'''</tr>\n",
    "            <tr align=\"center\"> '''\n",
    "            i+=1\n",
    "    tableStr+=r''' </tr>\n",
    "        </table>'''\n",
    "    return tableStr"
   ]
  },
  {
   "cell_type": "code",
   "execution_count": 12,
   "metadata": {
    "collapsed": false
   },
   "outputs": [],
   "source": [
    "def writeHome(directory):\n",
    "    homeText=printHeader(directory)+printTableHead()+writeTable(directory)+r'''</div> \n",
    "    </body> \n",
    "    </html>'''\n",
    "    return homeText"
   ]
  },
  {
   "cell_type": "code",
   "execution_count": 13,
   "metadata": {
    "collapsed": false
   },
   "outputs": [],
   "source": [
    "def makeHomePage(directory):\n",
    "    os.chdir(directory)\n",
    "    printText=writeHome(directory)\n",
    "    os.chdir(directory)\n",
    "    with open('homepage2.html', 'w') as fout:\n",
    "        fout.write(printText)\n",
    "    return 'done'"
   ]
  },
  {
   "cell_type": "code",
   "execution_count": 14,
   "metadata": {
    "collapsed": false
   },
   "outputs": [
    {
     "data": {
      "text/plain": [
       "'done'"
      ]
     },
     "execution_count": 14,
     "metadata": {},
     "output_type": "execute_result"
    }
   ],
   "source": [
    "makeHomePage('/Users/lynuszullo/pyOrbfit')"
   ]
  },
  {
   "cell_type": "code",
   "execution_count": null,
   "metadata": {
    "collapsed": true
   },
   "outputs": [],
   "source": []
  }
 ],
 "metadata": {
  "anaconda-cloud": {},
  "kernelspec": {
   "display_name": "Python [Root]",
   "language": "python",
   "name": "Python [Root]"
  },
  "language_info": {
   "codemirror_mode": {
    "name": "ipython",
    "version": 2
   },
   "file_extension": ".py",
   "mimetype": "text/x-python",
   "name": "python",
   "nbconvert_exporter": "python",
   "pygments_lexer": "ipython2",
   "version": "2.7.11"
  }
 },
 "nbformat": 4,
 "nbformat_minor": 0
}
